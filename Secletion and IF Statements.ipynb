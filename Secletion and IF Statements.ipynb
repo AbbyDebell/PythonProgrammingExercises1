{
 "cells": [
  {
   "cell_type": "markdown",
   "metadata": {},
   "source": [
    "# Selection: Making decisions: The IF/ELSE statement"
   ]
  },
  {
   "cell_type": "code",
   "execution_count": 2,
   "metadata": {},
   "outputs": [
    {
     "name": "stdout",
     "output_type": "stream",
     "text": [
      "you are too young\n"
     ]
    }
   ],
   "source": [
    "name = \"Abby\"\n",
    "age = 12\n",
    "if age > 10:\n",
    "    print(\"you are too young\")\n",
    "else:\n",
    "    print(\"you are old enough\")"
   ]
  },
  {
   "cell_type": "markdown",
   "metadata": {},
   "source": [
    "## Rules\n",
    "Need to indent after IF or ELSE \n",
    "\n",
    "Need to use a colon after IF or Else\n",
    "\n",
    "Need to use \"\" for string"
   ]
  },
  {
   "cell_type": "code",
   "execution_count": 2,
   "metadata": {},
   "outputs": [
    {
     "name": "stdout",
     "output_type": "stream",
     "text": [
      "you are exactly old enough\n"
     ]
    }
   ],
   "source": [
    "name = \"Abby\"\n",
    "age = 12\n",
    "if age == 10:\n",
    "    print(\"you are too young\")\n",
    "elif age == 11:\n",
    "    print(\"you are still too young\")\n",
    "elif age == 12:\n",
    "    print(\"you are exactly old enough\")\n",
    "else:\n",
    "    print(\"what should this message be??\")"
   ]
  },
  {
   "cell_type": "markdown",
   "metadata": {},
   "source": [
    "And: Both conditions must be true\n",
    "\n",
    "Or: One (or both) conditions must be true\n",
    "    \n",
    "Not: Only applies to one condition. The opposite"
   ]
  },
  {
   "cell_type": "code",
   "execution_count": 12,
   "metadata": {},
   "outputs": [
    {
     "name": "stdout",
     "output_type": "stream",
     "text": [
      "What is the temperature today?23\n",
      "Wear a coat\n"
     ]
    }
   ],
   "source": [
    "temp = int(input(\"What is the temperature today?\"))\n",
    "if temp >= 25:\n",
    "    print(\"The weather is hot, wear shorts\")\n",
    "    \n",
    "else:\n",
    "    print(\"Wear a coat\")"
   ]
  },
  {
   "cell_type": "markdown",
   "metadata": {},
   "source": [
    "## Rules\n",
    "\n",
    "Need to specify data type when creating an input e.g. if the input will be an integer 'int' needs to be used\n",
    "\n",
    "To create an input write input infront of the string of the question you're asking."
   ]
  },
  {
   "cell_type": "code",
   "execution_count": 28,
   "metadata": {},
   "outputs": [
    {
     "name": "stdout",
     "output_type": "stream",
     "text": [
      "How old are you?3\n",
      "Do you have an adult with you?y\n",
      "You can go in\n"
     ]
    }
   ],
   "source": [
    "age=int(input(\"How old are you?\"))\n",
    "if age >=18:\n",
    "    print(\"You can go into the cinema\")\n",
    "else:\n",
    "    adultAcc=input(\"Do you have an adult with you? y/n\")\n",
    "    if adultAcc== \"y\":\n",
    "        print(\"You can go in\")\n",
    "    else:\n",
    "        print(\"you're too young to go in without an adult\")"
   ]
  },
  {
   "cell_type": "code",
   "execution_count": null,
   "metadata": {},
   "outputs": [],
   "source": [
    "boy = input(\"Are you a boy? y/n\")\n",
    "pizza = input(\"Do you like pizza? y/n\")\n",
    "if boy == \"n\":\n",
    "    print(\"You can't come to my party\")\n",
    "else:\n",
    "    if pizza == \"y\":\n",
    "        print(\"you can come in\")\n",
    "    else:\n",
    "        print(\"You can't come in\")"
   ]
  }
 ],
 "metadata": {
  "kernelspec": {
   "display_name": "Python 3",
   "language": "python",
   "name": "python3"
  },
  "language_info": {
   "codemirror_mode": {
    "name": "ipython",
    "version": 3
   },
   "file_extension": ".py",
   "mimetype": "text/x-python",
   "name": "python",
   "nbconvert_exporter": "python",
   "pygments_lexer": "ipython3",
   "version": "3.5.2"
  }
 },
 "nbformat": 4,
 "nbformat_minor": 2
}
